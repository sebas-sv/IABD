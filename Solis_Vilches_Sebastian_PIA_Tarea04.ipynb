{
  "nbformat": 4,
  "nbformat_minor": 0,
  "metadata": {
    "colab": {
      "provenance": [],
      "include_colab_link": true
    },
    "kernelspec": {
      "name": "python3",
      "display_name": "Python 3"
    },
    "language_info": {
      "name": "python"
    }
  },
  "cells": [
    {
      "cell_type": "markdown",
      "metadata": {
        "id": "view-in-github",
        "colab_type": "text"
      },
      "source": [
        "<a href=\"https://colab.research.google.com/github/sebas-sv/IABD/blob/main/Solis_Vilches_Sebastian_PIA_Tarea04.ipynb\" target=\"_parent\"><img src=\"https://colab.research.google.com/assets/colab-badge.svg\" alt=\"Open In Colab\"/></a>"
      ]
    },
    {
      "cell_type": "markdown",
      "source": [
        "#Apartado 1: Explora los datos con Pandas"
      ],
      "metadata": {
        "id": "dB3mHOKPghXf"
      }
    },
    {
      "cell_type": "markdown",
      "source": [
        "\n",
        "\n",
        "---\n",
        "\n"
      ],
      "metadata": {
        "id": "LkTg4gKt6hPA"
      }
    },
    {
      "cell_type": "markdown",
      "source": [
        "**Importa las librerías Numpy y Pandas.**\n"
      ],
      "metadata": {
        "id": "LXvlkQjkn2s3"
      }
    },
    {
      "cell_type": "code",
      "source": [
        "import pandas as pd\n",
        "import numpy as np"
      ],
      "metadata": {
        "id": "FD9FKjrgglmw"
      },
      "execution_count": null,
      "outputs": []
    },
    {
      "cell_type": "markdown",
      "source": [
        "**Importa la función load_iris de la biblioteca de datasets de Scikit-learn y echa un vistazo rápido a sus principales elementos 'data', 'target' y 'target_names'.**\n",
        "\n"
      ],
      "metadata": {
        "id": "BDBc0ipBn-nt"
      }
    },
    {
      "cell_type": "code",
      "source": [
        "from sklearn.datasets import load_iris\n",
        "\n",
        "iris = load_iris()\n",
        "print(f'DATA: {iris.data}')\n",
        "print(f'\\nTARGET: {iris.target}')\n",
        "print(f'\\nTARGET NAME: {iris.target_names}')"
      ],
      "metadata": {
        "colab": {
          "base_uri": "https://localhost:8080/"
        },
        "id": "3hTKc4DFg9PL",
        "outputId": "fac4c268-aa7b-4447-e039-e54310f73fb1"
      },
      "execution_count": null,
      "outputs": [
        {
          "output_type": "stream",
          "name": "stdout",
          "text": [
            "DATA: [[5.1 3.5 1.4 0.2]\n",
            " [4.9 3.  1.4 0.2]\n",
            " [4.7 3.2 1.3 0.2]\n",
            " [4.6 3.1 1.5 0.2]\n",
            " [5.  3.6 1.4 0.2]\n",
            " [5.4 3.9 1.7 0.4]\n",
            " [4.6 3.4 1.4 0.3]\n",
            " [5.  3.4 1.5 0.2]\n",
            " [4.4 2.9 1.4 0.2]\n",
            " [4.9 3.1 1.5 0.1]\n",
            " [5.4 3.7 1.5 0.2]\n",
            " [4.8 3.4 1.6 0.2]\n",
            " [4.8 3.  1.4 0.1]\n",
            " [4.3 3.  1.1 0.1]\n",
            " [5.8 4.  1.2 0.2]\n",
            " [5.7 4.4 1.5 0.4]\n",
            " [5.4 3.9 1.3 0.4]\n",
            " [5.1 3.5 1.4 0.3]\n",
            " [5.7 3.8 1.7 0.3]\n",
            " [5.1 3.8 1.5 0.3]\n",
            " [5.4 3.4 1.7 0.2]\n",
            " [5.1 3.7 1.5 0.4]\n",
            " [4.6 3.6 1.  0.2]\n",
            " [5.1 3.3 1.7 0.5]\n",
            " [4.8 3.4 1.9 0.2]\n",
            " [5.  3.  1.6 0.2]\n",
            " [5.  3.4 1.6 0.4]\n",
            " [5.2 3.5 1.5 0.2]\n",
            " [5.2 3.4 1.4 0.2]\n",
            " [4.7 3.2 1.6 0.2]\n",
            " [4.8 3.1 1.6 0.2]\n",
            " [5.4 3.4 1.5 0.4]\n",
            " [5.2 4.1 1.5 0.1]\n",
            " [5.5 4.2 1.4 0.2]\n",
            " [4.9 3.1 1.5 0.2]\n",
            " [5.  3.2 1.2 0.2]\n",
            " [5.5 3.5 1.3 0.2]\n",
            " [4.9 3.6 1.4 0.1]\n",
            " [4.4 3.  1.3 0.2]\n",
            " [5.1 3.4 1.5 0.2]\n",
            " [5.  3.5 1.3 0.3]\n",
            " [4.5 2.3 1.3 0.3]\n",
            " [4.4 3.2 1.3 0.2]\n",
            " [5.  3.5 1.6 0.6]\n",
            " [5.1 3.8 1.9 0.4]\n",
            " [4.8 3.  1.4 0.3]\n",
            " [5.1 3.8 1.6 0.2]\n",
            " [4.6 3.2 1.4 0.2]\n",
            " [5.3 3.7 1.5 0.2]\n",
            " [5.  3.3 1.4 0.2]\n",
            " [7.  3.2 4.7 1.4]\n",
            " [6.4 3.2 4.5 1.5]\n",
            " [6.9 3.1 4.9 1.5]\n",
            " [5.5 2.3 4.  1.3]\n",
            " [6.5 2.8 4.6 1.5]\n",
            " [5.7 2.8 4.5 1.3]\n",
            " [6.3 3.3 4.7 1.6]\n",
            " [4.9 2.4 3.3 1. ]\n",
            " [6.6 2.9 4.6 1.3]\n",
            " [5.2 2.7 3.9 1.4]\n",
            " [5.  2.  3.5 1. ]\n",
            " [5.9 3.  4.2 1.5]\n",
            " [6.  2.2 4.  1. ]\n",
            " [6.1 2.9 4.7 1.4]\n",
            " [5.6 2.9 3.6 1.3]\n",
            " [6.7 3.1 4.4 1.4]\n",
            " [5.6 3.  4.5 1.5]\n",
            " [5.8 2.7 4.1 1. ]\n",
            " [6.2 2.2 4.5 1.5]\n",
            " [5.6 2.5 3.9 1.1]\n",
            " [5.9 3.2 4.8 1.8]\n",
            " [6.1 2.8 4.  1.3]\n",
            " [6.3 2.5 4.9 1.5]\n",
            " [6.1 2.8 4.7 1.2]\n",
            " [6.4 2.9 4.3 1.3]\n",
            " [6.6 3.  4.4 1.4]\n",
            " [6.8 2.8 4.8 1.4]\n",
            " [6.7 3.  5.  1.7]\n",
            " [6.  2.9 4.5 1.5]\n",
            " [5.7 2.6 3.5 1. ]\n",
            " [5.5 2.4 3.8 1.1]\n",
            " [5.5 2.4 3.7 1. ]\n",
            " [5.8 2.7 3.9 1.2]\n",
            " [6.  2.7 5.1 1.6]\n",
            " [5.4 3.  4.5 1.5]\n",
            " [6.  3.4 4.5 1.6]\n",
            " [6.7 3.1 4.7 1.5]\n",
            " [6.3 2.3 4.4 1.3]\n",
            " [5.6 3.  4.1 1.3]\n",
            " [5.5 2.5 4.  1.3]\n",
            " [5.5 2.6 4.4 1.2]\n",
            " [6.1 3.  4.6 1.4]\n",
            " [5.8 2.6 4.  1.2]\n",
            " [5.  2.3 3.3 1. ]\n",
            " [5.6 2.7 4.2 1.3]\n",
            " [5.7 3.  4.2 1.2]\n",
            " [5.7 2.9 4.2 1.3]\n",
            " [6.2 2.9 4.3 1.3]\n",
            " [5.1 2.5 3.  1.1]\n",
            " [5.7 2.8 4.1 1.3]\n",
            " [6.3 3.3 6.  2.5]\n",
            " [5.8 2.7 5.1 1.9]\n",
            " [7.1 3.  5.9 2.1]\n",
            " [6.3 2.9 5.6 1.8]\n",
            " [6.5 3.  5.8 2.2]\n",
            " [7.6 3.  6.6 2.1]\n",
            " [4.9 2.5 4.5 1.7]\n",
            " [7.3 2.9 6.3 1.8]\n",
            " [6.7 2.5 5.8 1.8]\n",
            " [7.2 3.6 6.1 2.5]\n",
            " [6.5 3.2 5.1 2. ]\n",
            " [6.4 2.7 5.3 1.9]\n",
            " [6.8 3.  5.5 2.1]\n",
            " [5.7 2.5 5.  2. ]\n",
            " [5.8 2.8 5.1 2.4]\n",
            " [6.4 3.2 5.3 2.3]\n",
            " [6.5 3.  5.5 1.8]\n",
            " [7.7 3.8 6.7 2.2]\n",
            " [7.7 2.6 6.9 2.3]\n",
            " [6.  2.2 5.  1.5]\n",
            " [6.9 3.2 5.7 2.3]\n",
            " [5.6 2.8 4.9 2. ]\n",
            " [7.7 2.8 6.7 2. ]\n",
            " [6.3 2.7 4.9 1.8]\n",
            " [6.7 3.3 5.7 2.1]\n",
            " [7.2 3.2 6.  1.8]\n",
            " [6.2 2.8 4.8 1.8]\n",
            " [6.1 3.  4.9 1.8]\n",
            " [6.4 2.8 5.6 2.1]\n",
            " [7.2 3.  5.8 1.6]\n",
            " [7.4 2.8 6.1 1.9]\n",
            " [7.9 3.8 6.4 2. ]\n",
            " [6.4 2.8 5.6 2.2]\n",
            " [6.3 2.8 5.1 1.5]\n",
            " [6.1 2.6 5.6 1.4]\n",
            " [7.7 3.  6.1 2.3]\n",
            " [6.3 3.4 5.6 2.4]\n",
            " [6.4 3.1 5.5 1.8]\n",
            " [6.  3.  4.8 1.8]\n",
            " [6.9 3.1 5.4 2.1]\n",
            " [6.7 3.1 5.6 2.4]\n",
            " [6.9 3.1 5.1 2.3]\n",
            " [5.8 2.7 5.1 1.9]\n",
            " [6.8 3.2 5.9 2.3]\n",
            " [6.7 3.3 5.7 2.5]\n",
            " [6.7 3.  5.2 2.3]\n",
            " [6.3 2.5 5.  1.9]\n",
            " [6.5 3.  5.2 2. ]\n",
            " [6.2 3.4 5.4 2.3]\n",
            " [5.9 3.  5.1 1.8]]\n",
            "\n",
            "TARGET: [0 0 0 0 0 0 0 0 0 0 0 0 0 0 0 0 0 0 0 0 0 0 0 0 0 0 0 0 0 0 0 0 0 0 0 0 0\n",
            " 0 0 0 0 0 0 0 0 0 0 0 0 0 1 1 1 1 1 1 1 1 1 1 1 1 1 1 1 1 1 1 1 1 1 1 1 1\n",
            " 1 1 1 1 1 1 1 1 1 1 1 1 1 1 1 1 1 1 1 1 1 1 1 1 1 1 2 2 2 2 2 2 2 2 2 2 2\n",
            " 2 2 2 2 2 2 2 2 2 2 2 2 2 2 2 2 2 2 2 2 2 2 2 2 2 2 2 2 2 2 2 2 2 2 2 2 2\n",
            " 2 2]\n",
            "\n",
            "TARGET NAME: ['setosa' 'versicolor' 'virginica']\n"
          ]
        }
      ]
    },
    {
      "cell_type": "markdown",
      "source": [
        "**Utiliza la clase DataFrame de Pandas para crear el dataset df y añade la columna \"Species\" a partir de la secuencia de datos target. Utiliza la función head para ver los primeros registros del nuevo dataset.**"
      ],
      "metadata": {
        "id": "wm2my7EroDLo"
      }
    },
    {
      "cell_type": "code",
      "source": [
        "# Se pasan los datos y el nombre de las columnas\n",
        "df = pd.DataFrame(data=iris.data, columns=iris.feature_names)\n",
        "# Se añade la columna Species con los valores del target\n",
        "df[\"Species\"] = iris.target\n",
        "# Se 'traduce' el valor númerico de la columna Species al valor entendible (targe_names)\n",
        "df['Species'] = df['Species'].replace(to_replace= [0, 1, 2], value = iris.target_names)\n",
        "# Se muestran los primeros 60 valores\n",
        "print(df.head(60))"
      ],
      "metadata": {
        "colab": {
          "base_uri": "https://localhost:8080/"
        },
        "id": "czRGR6aBaOjv",
        "outputId": "65ede737-56f1-4830-a7ee-d039d4bc7cca"
      },
      "execution_count": null,
      "outputs": [
        {
          "output_type": "stream",
          "name": "stdout",
          "text": [
            "    sepal length (cm)  sepal width (cm)  petal length (cm)  petal width (cm)  \\\n",
            "0                 5.1               3.5                1.4               0.2   \n",
            "1                 4.9               3.0                1.4               0.2   \n",
            "2                 4.7               3.2                1.3               0.2   \n",
            "3                 4.6               3.1                1.5               0.2   \n",
            "4                 5.0               3.6                1.4               0.2   \n",
            "5                 5.4               3.9                1.7               0.4   \n",
            "6                 4.6               3.4                1.4               0.3   \n",
            "7                 5.0               3.4                1.5               0.2   \n",
            "8                 4.4               2.9                1.4               0.2   \n",
            "9                 4.9               3.1                1.5               0.1   \n",
            "10                5.4               3.7                1.5               0.2   \n",
            "11                4.8               3.4                1.6               0.2   \n",
            "12                4.8               3.0                1.4               0.1   \n",
            "13                4.3               3.0                1.1               0.1   \n",
            "14                5.8               4.0                1.2               0.2   \n",
            "15                5.7               4.4                1.5               0.4   \n",
            "16                5.4               3.9                1.3               0.4   \n",
            "17                5.1               3.5                1.4               0.3   \n",
            "18                5.7               3.8                1.7               0.3   \n",
            "19                5.1               3.8                1.5               0.3   \n",
            "20                5.4               3.4                1.7               0.2   \n",
            "21                5.1               3.7                1.5               0.4   \n",
            "22                4.6               3.6                1.0               0.2   \n",
            "23                5.1               3.3                1.7               0.5   \n",
            "24                4.8               3.4                1.9               0.2   \n",
            "25                5.0               3.0                1.6               0.2   \n",
            "26                5.0               3.4                1.6               0.4   \n",
            "27                5.2               3.5                1.5               0.2   \n",
            "28                5.2               3.4                1.4               0.2   \n",
            "29                4.7               3.2                1.6               0.2   \n",
            "30                4.8               3.1                1.6               0.2   \n",
            "31                5.4               3.4                1.5               0.4   \n",
            "32                5.2               4.1                1.5               0.1   \n",
            "33                5.5               4.2                1.4               0.2   \n",
            "34                4.9               3.1                1.5               0.2   \n",
            "35                5.0               3.2                1.2               0.2   \n",
            "36                5.5               3.5                1.3               0.2   \n",
            "37                4.9               3.6                1.4               0.1   \n",
            "38                4.4               3.0                1.3               0.2   \n",
            "39                5.1               3.4                1.5               0.2   \n",
            "40                5.0               3.5                1.3               0.3   \n",
            "41                4.5               2.3                1.3               0.3   \n",
            "42                4.4               3.2                1.3               0.2   \n",
            "43                5.0               3.5                1.6               0.6   \n",
            "44                5.1               3.8                1.9               0.4   \n",
            "45                4.8               3.0                1.4               0.3   \n",
            "46                5.1               3.8                1.6               0.2   \n",
            "47                4.6               3.2                1.4               0.2   \n",
            "48                5.3               3.7                1.5               0.2   \n",
            "49                5.0               3.3                1.4               0.2   \n",
            "50                7.0               3.2                4.7               1.4   \n",
            "51                6.4               3.2                4.5               1.5   \n",
            "52                6.9               3.1                4.9               1.5   \n",
            "53                5.5               2.3                4.0               1.3   \n",
            "54                6.5               2.8                4.6               1.5   \n",
            "55                5.7               2.8                4.5               1.3   \n",
            "56                6.3               3.3                4.7               1.6   \n",
            "57                4.9               2.4                3.3               1.0   \n",
            "58                6.6               2.9                4.6               1.3   \n",
            "59                5.2               2.7                3.9               1.4   \n",
            "\n",
            "       Species  \n",
            "0       setosa  \n",
            "1       setosa  \n",
            "2       setosa  \n",
            "3       setosa  \n",
            "4       setosa  \n",
            "5       setosa  \n",
            "6       setosa  \n",
            "7       setosa  \n",
            "8       setosa  \n",
            "9       setosa  \n",
            "10      setosa  \n",
            "11      setosa  \n",
            "12      setosa  \n",
            "13      setosa  \n",
            "14      setosa  \n",
            "15      setosa  \n",
            "16      setosa  \n",
            "17      setosa  \n",
            "18      setosa  \n",
            "19      setosa  \n",
            "20      setosa  \n",
            "21      setosa  \n",
            "22      setosa  \n",
            "23      setosa  \n",
            "24      setosa  \n",
            "25      setosa  \n",
            "26      setosa  \n",
            "27      setosa  \n",
            "28      setosa  \n",
            "29      setosa  \n",
            "30      setosa  \n",
            "31      setosa  \n",
            "32      setosa  \n",
            "33      setosa  \n",
            "34      setosa  \n",
            "35      setosa  \n",
            "36      setosa  \n",
            "37      setosa  \n",
            "38      setosa  \n",
            "39      setosa  \n",
            "40      setosa  \n",
            "41      setosa  \n",
            "42      setosa  \n",
            "43      setosa  \n",
            "44      setosa  \n",
            "45      setosa  \n",
            "46      setosa  \n",
            "47      setosa  \n",
            "48      setosa  \n",
            "49      setosa  \n",
            "50  versicolor  \n",
            "51  versicolor  \n",
            "52  versicolor  \n",
            "53  versicolor  \n",
            "54  versicolor  \n",
            "55  versicolor  \n",
            "56  versicolor  \n",
            "57  versicolor  \n",
            "58  versicolor  \n",
            "59  versicolor  \n"
          ]
        }
      ]
    },
    {
      "cell_type": "markdown",
      "source": [
        "**Utiliza la función describe para ver los principales valores estadísticos del dataset.**\n",
        "\n",
        "\n",
        "\n"
      ],
      "metadata": {
        "id": "SLe3uP3zoH40"
      }
    },
    {
      "cell_type": "code",
      "source": [
        "print(df.describe())"
      ],
      "metadata": {
        "colab": {
          "base_uri": "https://localhost:8080/"
        },
        "id": "Kl_Wub_gieEg",
        "outputId": "e8d8bb43-a3a4-4f52-d403-cde77c305c9e"
      },
      "execution_count": null,
      "outputs": [
        {
          "output_type": "stream",
          "name": "stdout",
          "text": [
            "       sepal length (cm)  sepal width (cm)  petal length (cm)  \\\n",
            "count         150.000000        150.000000         150.000000   \n",
            "mean            5.843333          3.057333           3.758000   \n",
            "std             0.828066          0.435866           1.765298   \n",
            "min             4.300000          2.000000           1.000000   \n",
            "25%             5.100000          2.800000           1.600000   \n",
            "50%             5.800000          3.000000           4.350000   \n",
            "75%             6.400000          3.300000           5.100000   \n",
            "max             7.900000          4.400000           6.900000   \n",
            "\n",
            "       petal width (cm)  \n",
            "count        150.000000  \n",
            "mean           1.199333  \n",
            "std            0.762238  \n",
            "min            0.100000  \n",
            "25%            0.300000  \n",
            "50%            1.300000  \n",
            "75%            1.800000  \n",
            "max            2.500000  \n"
          ]
        }
      ]
    },
    {
      "cell_type": "markdown",
      "source": [
        "#Apartado 2: Visualiza los datos con Pyplot"
      ],
      "metadata": {
        "id": "nU-E1wuHozdf"
      }
    },
    {
      "cell_type": "markdown",
      "source": [
        "**Utiliza el paquete Pyplot para hacer representaciones gráficas de los datos. Importa Pyplot de la librería Matplotlib y crea una figura tipo \"dispersión de puntos\" (Scatter plot) con la variable sepal length (cm) en el eje x y la variable sepal width (cm) en el eje y.**\n"
      ],
      "metadata": {
        "id": "0a5uJTJYpKzm"
      }
    },
    {
      "cell_type": "code",
      "source": [
        "from matplotlib import pyplot as plt\n",
        "\n",
        "x = df[\"sepal length (cm)\"]\n",
        "y = df[\"sepal width (cm)\"]\n",
        "\n",
        "plt.scatter(x, y, c='blue')\n",
        "\n",
        "plt.xlabel(\"sepal length (cm)\")\n",
        "plt.ylabel(\"sepal width (cm)\")\n",
        "\n",
        "plt.show()"
      ],
      "metadata": {
        "colab": {
          "base_uri": "https://localhost:8080/",
          "height": 452
        },
        "id": "BQ1q_eMv2K2C",
        "outputId": "7db629dc-696b-441f-e9c8-dd40dfacd5f5"
      },
      "execution_count": null,
      "outputs": [
        {
          "output_type": "display_data",
          "data": {
            "text/plain": [
              "<Figure size 640x480 with 1 Axes>"
            ],
            "image/png": "[encoded data removed]"
          },
          "metadata": {}
        }
      ]
    },
    {
      "cell_type": "markdown",
      "source": [
        "**Crea otra figura distinguiendo con el color azul la especie \"Setosa\", con el color verde la especie \"Versicolor\" y con color rojo la especie \"Virginica\".**"
      ],
      "metadata": {
        "id": "93wMFUN7rCbG"
      }
    },
    {
      "cell_type": "code",
      "source": [
        "x = df[\"sepal length (cm)\"]\n",
        "y = df[\"sepal width (cm)\"]\n",
        "\n",
        "plt.scatter(x, y, c=df[\"Species\"].apply(lambda x: {\"setosa\": \"blue\", \"versicolor\": \"green\", \"virginica\": \"red\"}[x]), alpha=0.5)\n",
        "\n",
        "plt.xlabel(\"sepal length (cm)\")\n",
        "plt.ylabel(\"sepal width (cm)\")\n",
        "\n",
        "plt.show()"
      ],
      "metadata": {
        "id": "DnPQ3-u8rFkF",
        "colab": {
          "base_uri": "https://localhost:8080/",
          "height": 452
        },
        "outputId": "cec13c86-e6d7-4a5c-d74b-373562754ec1"
      },
      "execution_count": null,
      "outputs": [
        {
          "output_type": "display_data",
          "data": {
            "text/plain": [
              "<Figure size 640x480 with 1 Axes>"
            ],
            "image/png": "[encoded data removed]"
          },
          "metadata": {}
        }
      ]
    },
    {
      "cell_type": "markdown",
      "source": [
        "**Analiza cómo se distribuyen los casos si, en vez de representar según las variables de las dimensiones de los sépalos, utilizas las variables basadas en las dimensiones de los pétalos. Representa los datos en una figura tipo scatter, utilizando en el eje x la variable \"petal length (cm)\" y en el eje y la variable \"petal width\". De nuevo, distingue las especies con tres colores: color azul la especie \"Setosa\", con color verde la especie \"Versicolor\" y con color rojo la especie \"Virginica\".**"
      ],
      "metadata": {
        "id": "JfK5x0FXv9Mz"
      }
    },
    {
      "cell_type": "code",
      "source": [
        "x = df[\"petal length (cm)\"]\n",
        "y = df[\"petal width (cm)\"]\n",
        "\n",
        "plt.scatter(x, y)\n",
        "\n",
        "plt.xlabel(\"petal length (cm)\")\n",
        "plt.ylabel(\"petal width (cm)\")\n",
        "\n",
        "plt.scatter(x, y, c=df[\"Species\"].apply(lambda x: {\"setosa\": \"blue\", \"versicolor\": \"green\", \"virginica\":\"red\"}[x]), alpha=0.5)\n",
        "plt.show()"
      ],
      "metadata": {
        "colab": {
          "base_uri": "https://localhost:8080/",
          "height": 449
        },
        "id": "gwnFsU8KwAqh",
        "outputId": "5623b96d-ef71-49cc-9456-d05a23623662"
      },
      "execution_count": null,
      "outputs": [
        {
          "output_type": "display_data",
          "data": {
            "text/plain": [
              "<Figure size 640x480 with 1 Axes>"
            ],
            "image/png": "[encoded data removed]"
          },
          "metadata": {}
        }
      ]
    },
    {
      "cell_type": "markdown",
      "source": [
        "En este caso se observa como la especie Setosa es la de menor tamaño de **pétalos**,  la Versicolor la intermedia y la Virginica la de mayor tamaño.\n",
        "\n",
        "En comparación con los **sépalos**, si bien el ancho suele ser uniforme (aunque destaque la especie Setosa con mayor ancho), en cuanto al largo, se vuelve a estar en un a posición similar a la de los petalos, de menor a mayor: Setosa, Versicolor y Virginica. Esta vez siendo estando estas 2 últimas con valores compartidos."
      ],
      "metadata": {
        "id": "olP74PYiws-w"
      }
    },
    {
      "cell_type": "markdown",
      "source": [
        "#Apartado 3: Entrena modelos de aprendizaje automático con Scikit-learn"
      ],
      "metadata": {
        "id": "VR6YkWyIyAjQ"
      }
    },
    {
      "cell_type": "markdown",
      "source": [
        "\n",
        "**Importa los módulos de la librería Scikit-learn que nos permiten hacer un modelo de regresión lineal, un modelo de máquina de vectores soporte, un modelo de tipo los K vecinos más cercanos (KNN), y un modelo de tipo árbol de decisión.**"
      ],
      "metadata": {
        "id": "yCRmInPJyJwp"
      }
    },
    {
      "cell_type": "code",
      "source": [
        "from sklearn.model_selection import train_test_split\n",
        "from sklearn.linear_model import LogisticRegression\n",
        "from sklearn.svm import SVC\n",
        "from sklearn.neighbors import KNeighborsClassifier\n",
        "from sklearn.tree import DecisionTreeClassifier"
      ],
      "metadata": {
        "id": "jPVNwM-wyi1p"
      },
      "execution_count": null,
      "outputs": []
    },
    {
      "cell_type": "markdown",
      "source": [
        "**Genera el conjunto de datos X con las variables de entrada a los modelos, y el conjunto y de las etiquetas o variable de salida del modelo, eligiendo para éste último, la variable \"Species\".**"
      ],
      "metadata": {
        "id": "jAA6WiQuzVS2"
      }
    },
    {
      "cell_type": "code",
      "source": [
        "y = df['Species']\n",
        "X = df.drop('Species',axis=1)"
      ],
      "metadata": {
        "id": "EEfPXkJ3zXun"
      },
      "execution_count": null,
      "outputs": []
    },
    {
      "cell_type": "markdown",
      "source": [
        "**Utiliza la función train_test_split para separar los datos en el conjunto train y test según el ejemplo.**\n"
      ],
      "metadata": {
        "id": "ttQzNNw-z_0Y"
      }
    },
    {
      "cell_type": "code",
      "source": [
        "X_train, X_test, y_train, y_test = train_test_split(X, y, test_size=0.2)"
      ],
      "metadata": {
        "id": "mLG9CSGt0CLe"
      },
      "execution_count": null,
      "outputs": []
    },
    {
      "cell_type": "markdown",
      "source": [
        "**Crea un modelo de Regresión Logística. Utiliza la función fit para entrenarlo y utiliza la función predict sobre los datos de test para medir la precisión del modelo. Muestra el valor de dicha precisión con print.**"
      ],
      "metadata": {
        "id": "U2C4i1TJ0852"
      }
    },
    {
      "cell_type": "code",
      "source": [
        "model = LogisticRegression()\n",
        "model.fit(X_train, y_train)\n",
        "print(f'LogisticRegression score: {model.score(X_test, y_test)}')"
      ],
      "metadata": {
        "id": "5ImUZjGL1BFt",
        "colab": {
          "base_uri": "https://localhost:8080/"
        },
        "outputId": "ba2430f6-33bf-4be5-8f68-0f4b3893a81e"
      },
      "execution_count": null,
      "outputs": [
        {
          "output_type": "stream",
          "name": "stdout",
          "text": [
            "LogisticRegression score: 0.9666666666666667\n"
          ]
        },
        {
          "output_type": "stream",
          "name": "stderr",
          "text": [
            "/usr/local/lib/python3.10/dist-packages/sklearn/linear_model/_logistic.py:458: ConvergenceWarning: lbfgs failed to converge (status=1):\n",
            "STOP: TOTAL NO. of ITERATIONS REACHED LIMIT.\n",
            "\n",
            "Increase the number of iterations (max_iter) or scale the data as shown in:\n",
            "    https://scikit-learn.org/stable/modules/preprocessing.html\n",
            "Please also refer to the documentation for alternative solver options:\n",
            "    https://scikit-learn.org/stable/modules/linear_model.html#logistic-regression\n",
            "  n_iter_i = _check_optimize_result(\n"
          ]
        }
      ]
    },
    {
      "cell_type": "markdown",
      "source": [
        "**Crea un modelo de SVC o Máquinas de Vectores de Soporte, entrénalo y calcula la precisión utilizando los datos de test. Muestra la precisión.**"
      ],
      "metadata": {
        "id": "sFqHRmTh1Cq6"
      }
    },
    {
      "cell_type": "code",
      "source": [
        "model = SVC()\n",
        "model.fit(X_train, y_train)\n",
        "print(f'SVC Score: {model.score(X_test, y_test)}')"
      ],
      "metadata": {
        "id": "i1jGjkN71FBl",
        "colab": {
          "base_uri": "https://localhost:8080/"
        },
        "outputId": "99571181-fb45-4567-bc24-e31f5a07a21f"
      },
      "execution_count": null,
      "outputs": [
        {
          "output_type": "stream",
          "name": "stdout",
          "text": [
            "SVC Score: 0.9333333333333333\n"
          ]
        }
      ]
    },
    {
      "cell_type": "markdown",
      "source": [
        "**Crea un modelo de KNN o K vecinos más cercanos, entrénalo y calcula la precisión utilizando los datos de test. Muestra la precisión.**"
      ],
      "metadata": {
        "id": "QZVmuDum1FQr"
      }
    },
    {
      "cell_type": "code",
      "source": [
        "model =  KNeighborsClassifier(n_neighbors=10)\n",
        "model.fit(X_train, y_train)\n",
        "print(f'KNeighborsClassifier score: {model.score(X_test, y_test)}')"
      ],
      "metadata": {
        "colab": {
          "base_uri": "https://localhost:8080/"
        },
        "id": "83cItYq57buk",
        "outputId": "f7c7b35c-ed2b-412e-d99b-a95fbcbb76d8"
      },
      "execution_count": null,
      "outputs": [
        {
          "output_type": "stream",
          "name": "stdout",
          "text": [
            "KNeighborsClassifier score: 0.9666666666666667\n"
          ]
        }
      ]
    },
    {
      "cell_type": "markdown",
      "source": [
        "**Crea un modelo de árbol de decisión, entrénalo y calcula la precisión utilizando los datos de test. Muestra la precisión.**\n"
      ],
      "metadata": {
        "id": "85JHQBFS1Hl7"
      }
    },
    {
      "cell_type": "code",
      "source": [
        "model =  DecisionTreeClassifier()\n",
        "model.fit(X_train, y_train)\n",
        "print(f'DecisionTreeClassifier score: {model.score(X_test, y_test)}')"
      ],
      "metadata": {
        "id": "B4Gj8bVH1JGd",
        "colab": {
          "base_uri": "https://localhost:8080/"
        },
        "outputId": "f0f3114b-1b9f-450b-8030-538fbfc54bfa"
      },
      "execution_count": null,
      "outputs": [
        {
          "output_type": "stream",
          "name": "stdout",
          "text": [
            "DecisionTreeClassifier score: 0.9\n"
          ]
        }
      ]
    },
    {
      "cell_type": "markdown",
      "source": [
        "**Compara los valores de precisión que has ido consiguiendo en los diferentes modelos. ¿Cuál sería el mejor para este dataset?**\n"
      ],
      "metadata": {
        "id": "HVc9P-yI1JlV"
      }
    },
    {
      "cell_type": "markdown",
      "source": [
        "He obtenido mejores resultados tanto en el modelo \"SVC\" como en el modelo \"KNeighborsClassifier\" con una precisión de 0.9333, por encima del resto de modelos donde se ha obtenido un 0.9 de precisión.\n",
        "Aunque es cierto que he necesitado modificar el parámetro número de vecinos cercanos para obtener más del 0.9 de precisión que obtenía por defecto."
      ],
      "metadata": {
        "id": "QjkVbz_a7-h3"
      }
    },
    {
      "cell_type": "markdown",
      "source": [
        "#Apartado 4: Entrena modelos de aprendizaje automático con pocas variables."
      ],
      "metadata": {
        "id": "5NvkLKFl8qR-"
      }
    },
    {
      "cell_type": "markdown",
      "source": [
        "**Imagina que no has podido tener todas las variables, y que solo has conseguido los valores de las medidas de los sépalos, y con esos datos debes entrenar un modelo que acierte con el tipo de especie de flor de iris. Para ello, crea un nuevo dataset que tenga solo las columnas de las dimensiones de los sépalos y la de la especie.**"
      ],
      "metadata": {
        "id": "O3KSlNVZ8uJJ"
      }
    },
    {
      "cell_type": "code",
      "source": [
        "sepalo = df[['sepal length (cm)','sepal width (cm)','Species']]\n",
        "sepalo.head()"
      ],
      "metadata": {
        "colab": {
          "base_uri": "https://localhost:8080/",
          "height": 206
        },
        "id": "Icw2pO629RPy",
        "outputId": "a20509ca-63a7-4f63-c14e-8fc20a33d3d1"
      },
      "execution_count": null,
      "outputs": [
        {
          "output_type": "execute_result",
          "data": {
            "text/plain": [
              "   sepal length (cm)  sepal width (cm) Species\n",
              "0                5.1               3.5  setosa\n",
              "1                4.9               3.0  setosa\n",
              "2                4.7               3.2  setosa\n",
              "3                4.6               3.1  setosa\n",
              "4                5.0               3.6  setosa"
            ],
            "text/html": [
              "\n",
              "  <div id=\"df-c1e639b0-65bc-47a2-9e07-f2ecd978717d\" class=\"colab-df-container\">\n",
              "    <div>\n",
              "<style scoped>\n",
              "    .dataframe tbody tr th:only-of-type {\n",
              "        vertical-align: middle;\n",
              "    }\n",
              "\n",
              "    .dataframe tbody tr th {\n",
              "        vertical-align: top;\n",
              "    }\n",
              "\n",
              "    .dataframe thead th {\n",
              "        text-align: right;\n",
              "    }\n",
              "</style>\n",
              "<table border=\"1\" class=\"dataframe\">\n",
              "  <thead>\n",
              "    <tr style=\"text-align: right;\">\n",
              "      <th></th>\n",
              "      <th>sepal length (cm)</th>\n",
              "      <th>sepal width (cm)</th>\n",
              "      <th>Species</th>\n",
              "    </tr>\n",
              "  </thead>\n",
              "  <tbody>\n",
              "    <tr>\n",
              "      <th>0</th>\n",
              "      <td>5.1</td>\n",
              "      <td>3.5</td>\n",
              "      <td>setosa</td>\n",
              "    </tr>\n",
              "    <tr>\n",
              "      <th>1</th>\n",
              "      <td>4.9</td>\n",
              "      <td>3.0</td>\n",
              "      <td>setosa</td>\n",
              "    </tr>\n",
              "    <tr>\n",
              "      <th>2</th>\n",
              "      <td>4.7</td>\n",
              "      <td>3.2</td>\n",
              "      <td>setosa</td>\n",
              "    </tr>\n",
              "    <tr>\n",
              "      <th>3</th>\n",
              "      <td>4.6</td>\n",
              "      <td>3.1</td>\n",
              "      <td>setosa</td>\n",
              "    </tr>\n",
              "    <tr>\n",
              "      <th>4</th>\n",
              "      <td>5.0</td>\n",
              "      <td>3.6</td>\n",
              "      <td>setosa</td>\n",
              "    </tr>\n",
              "  </tbody>\n",
              "</table>\n",
              "</div>\n",
              "    <div class=\"colab-df-buttons\">\n",
              "\n",
              "  <div class=\"colab-df-container\">\n",
              "    <button class=\"colab-df-convert\" onclick=\"convertToInteractive('df-c1e639b0-65bc-47a2-9e07-f2ecd978717d')\"\n",
              "            title=\"Convert this dataframe to an interactive table.\"\n",
              "            style=\"display:none;\">\n",
              "\n",
              "  <svg xmlns=\"http://www.w3.org/2000/svg\" height=\"24px\" viewBox=\"0 -960 960 960\">\n",
              "    <path d=\"M120-120v-720h720v720H120Zm60-500h600v-160H180v160Zm220 220h160v-160H400v160Zm0 220h160v-160H400v160ZM180-400h160v-160H180v160Zm440 0h160v-160H620v160ZM180-180h160v-160H180v160Zm440 0h160v-160H620v160Z\"/>\n",
              "  </svg>\n",
              "    </button>\n",
              "\n",
              "  <style>\n",
              "    .colab-df-container {\n",
              "      display:flex;\n",
              "      gap: 12px;\n",
              "    }\n",
              "\n",
              "    .colab-df-convert {\n",
              "      background-color: #E8F0FE;\n",
              "      border: none;\n",
              "      border-radius: 50%;\n",
              "      cursor: pointer;\n",
              "      display: none;\n",
              "      fill: #1967D2;\n",
              "      height: 32px;\n",
              "      padding: 0 0 0 0;\n",
              "      width: 32px;\n",
              "    }\n",
              "\n",
              "    .colab-df-convert:hover {\n",
              "      background-color: #E2EBFA;\n",
              "      box-shadow: 0px 1px 2px rgba(60, 64, 67, 0.3), 0px 1px 3px 1px rgba(60, 64, 67, 0.15);\n",
              "      fill: #174EA6;\n",
              "    }\n",
              "\n",
              "    .colab-df-buttons div {\n",
              "      margin-bottom: 4px;\n",
              "    }\n",
              "\n",
              "    [theme=dark] .colab-df-convert {\n",
              "      background-color: #3B4455;\n",
              "      fill: #D2E3FC;\n",
              "    }\n",
              "\n",
              "    [theme=dark] .colab-df-convert:hover {\n",
              "      background-color: #434B5C;\n",
              "      box-shadow: 0px 1px 3px 1px rgba(0, 0, 0, 0.15);\n",
              "      filter: drop-shadow(0px 1px 2px rgba(0, 0, 0, 0.3));\n",
              "      fill: #FFFFFF;\n",
              "    }\n",
              "  </style>\n",
              "\n",
              "    <script>\n",
              "      const buttonEl =\n",
              "        document.querySelector('#df-c1e639b0-65bc-47a2-9e07-f2ecd978717d button.colab-df-convert');\n",
              "      buttonEl.style.display =\n",
              "        google.colab.kernel.accessAllowed ? 'block' : 'none';\n",
              "\n",
              "      async function convertToInteractive(key) {\n",
              "        const element = document.querySelector('#df-c1e639b0-65bc-47a2-9e07-f2ecd978717d');\n",
              "        const dataTable =\n",
              "          await google.colab.kernel.invokeFunction('convertToInteractive',\n",
              "                                                    [key], {});\n",
              "        if (!dataTable) return;\n",
              "\n",
              "        const docLinkHtml = 'Like what you see? Visit the ' +\n",
              "          '<a target=\"_blank\" href=https://colab.research.google.com/notebooks/data_table.ipynb>data table notebook</a>'\n",
              "          + ' to learn more about interactive tables.';\n",
              "        element.innerHTML = '';\n",
              "        dataTable['output_type'] = 'display_data';\n",
              "        await google.colab.output.renderOutput(dataTable, element);\n",
              "        const docLink = document.createElement('div');\n",
              "        docLink.innerHTML = docLinkHtml;\n",
              "        element.appendChild(docLink);\n",
              "      }\n",
              "    </script>\n",
              "  </div>\n",
              "\n",
              "\n",
              "<div id=\"df-c32af34c-8215-4310-aff3-042fcd124e34\">\n",
              "  <button class=\"colab-df-quickchart\" onclick=\"quickchart('df-c32af34c-8215-4310-aff3-042fcd124e34')\"\n",
              "            title=\"Suggest charts\"\n",
              "            style=\"display:none;\">\n",
              "\n",
              "<svg xmlns=\"http://www.w3.org/2000/svg\" height=\"24px\"viewBox=\"0 0 24 24\"\n",
              "     width=\"24px\">\n",
              "    <g>\n",
              "        <path d=\"M19 3H5c-1.1 0-2 .9-2 2v14c0 1.1.9 2 2 2h14c1.1 0 2-.9 2-2V5c0-1.1-.9-2-2-2zM9 17H7v-7h2v7zm4 0h-2V7h2v10zm4 0h-2v-4h2v4z\"/>\n",
              "    </g>\n",
              "</svg>\n",
              "  </button>\n",
              "\n",
              "<style>\n",
              "  .colab-df-quickchart {\n",
              "      --bg-color: #E8F0FE;\n",
              "      --fill-color: #1967D2;\n",
              "      --hover-bg-color: #E2EBFA;\n",
              "      --hover-fill-color: #174EA6;\n",
              "      --disabled-fill-color: #AAA;\n",
              "      --disabled-bg-color: #DDD;\n",
              "  }\n",
              "\n",
              "  [theme=dark] .colab-df-quickchart {\n",
              "      --bg-color: #3B4455;\n",
              "      --fill-color: #D2E3FC;\n",
              "      --hover-bg-color: #434B5C;\n",
              "      --hover-fill-color: #FFFFFF;\n",
              "      --disabled-bg-color: #3B4455;\n",
              "      --disabled-fill-color: #666;\n",
              "  }\n",
              "\n",
              "  .colab-df-quickchart {\n",
              "    background-color: var(--bg-color);\n",
              "    border: none;\n",
              "    border-radius: 50%;\n",
              "    cursor: pointer;\n",
              "    display: none;\n",
              "    fill: var(--fill-color);\n",
              "    height: 32px;\n",
              "    padding: 0;\n",
              "    width: 32px;\n",
              "  }\n",
              "\n",
              "  .colab-df-quickchart:hover {\n",
              "    background-color: var(--hover-bg-color);\n",
              "    box-shadow: 0 1px 2px rgba(60, 64, 67, 0.3), 0 1px 3px 1px rgba(60, 64, 67, 0.15);\n",
              "    fill: var(--button-hover-fill-color);\n",
              "  }\n",
              "\n",
              "  .colab-df-quickchart-complete:disabled,\n",
              "  .colab-df-quickchart-complete:disabled:hover {\n",
              "    background-color: var(--disabled-bg-color);\n",
              "    fill: var(--disabled-fill-color);\n",
              "    box-shadow: none;\n",
              "  }\n",
              "\n",
              "  .colab-df-spinner {\n",
              "    border: 2px solid var(--fill-color);\n",
              "    border-color: transparent;\n",
              "    border-bottom-color: var(--fill-color);\n",
              "    animation:\n",
              "      spin 1s steps(1) infinite;\n",
              "  }\n",
              "\n",
              "  @keyframes spin {\n",
              "    0% {\n",
              "      border-color: transparent;\n",
              "      border-bottom-color: var(--fill-color);\n",
              "      border-left-color: var(--fill-color);\n",
              "    }\n",
              "    20% {\n",
              "      border-color: transparent;\n",
              "      border-left-color: var(--fill-color);\n",
              "      border-top-color: var(--fill-color);\n",
              "    }\n",
              "    30% {\n",
              "      border-color: transparent;\n",
              "      border-left-color: var(--fill-color);\n",
              "      border-top-color: var(--fill-color);\n",
              "      border-right-color: var(--fill-color);\n",
              "    }\n",
              "    40% {\n",
              "      border-color: transparent;\n",
              "      border-right-color: var(--fill-color);\n",
              "      border-top-color: var(--fill-color);\n",
              "    }\n",
              "    60% {\n",
              "      border-color: transparent;\n",
              "      border-right-color: var(--fill-color);\n",
              "    }\n",
              "    80% {\n",
              "      border-color: transparent;\n",
              "      border-right-color: var(--fill-color);\n",
              "      border-bottom-color: var(--fill-color);\n",
              "    }\n",
              "    90% {\n",
              "      border-color: transparent;\n",
              "      border-bottom-color: var(--fill-color);\n",
              "    }\n",
              "  }\n",
              "</style>\n",
              "\n",
              "  <script>\n",
              "    async function quickchart(key) {\n",
              "      const quickchartButtonEl =\n",
              "        document.querySelector('#' + key + ' button');\n",
              "      quickchartButtonEl.disabled = true;  // To prevent multiple clicks.\n",
              "      quickchartButtonEl.classList.add('colab-df-spinner');\n",
              "      try {\n",
              "        const charts = await google.colab.kernel.invokeFunction(\n",
              "            'suggestCharts', [key], {});\n",
              "      } catch (error) {\n",
              "        console.error('Error during call to suggestCharts:', error);\n",
              "      }\n",
              "      quickchartButtonEl.classList.remove('colab-df-spinner');\n",
              "      quickchartButtonEl.classList.add('colab-df-quickchart-complete');\n",
              "    }\n",
              "    (() => {\n",
              "      let quickchartButtonEl =\n",
              "        document.querySelector('#df-c32af34c-8215-4310-aff3-042fcd124e34 button');\n",
              "      quickchartButtonEl.style.display =\n",
              "        google.colab.kernel.accessAllowed ? 'block' : 'none';\n",
              "    })();\n",
              "  </script>\n",
              "</div>\n",
              "    </div>\n",
              "  </div>\n"
            ]
          },
          "metadata": {},
          "execution_count": 15
        }
      ]
    },
    {
      "cell_type": "markdown",
      "source": [
        "**Separa los datos en X_sepalo para las variables de entrada e y_sepalo para la variable de salida.**"
      ],
      "metadata": {
        "id": "vYc88Drl8yIC"
      }
    },
    {
      "cell_type": "code",
      "source": [
        "y_sepalo = sepalo['Species']\n",
        "X_sepalo = sepalo.drop('Species',axis=1)"
      ],
      "metadata": {
        "id": "muqkIFjX9bHj"
      },
      "execution_count": null,
      "outputs": []
    },
    {
      "cell_type": "markdown",
      "source": [
        "**Separa los datos en un conjunto X_train_s, X_test_s,y_train_s, y_test_s, para entrenamiento y test del modelo.**"
      ],
      "metadata": {
        "id": "--j_rlz2805W"
      }
    },
    {
      "cell_type": "code",
      "source": [
        "X_train_s, X_test_s, y_train_s, y_test_s = train_test_split(X_sepalo, y_sepalo, test_size=0.5)"
      ],
      "metadata": {
        "id": "6Kg4gwjy9d0k"
      },
      "execution_count": null,
      "outputs": []
    },
    {
      "cell_type": "markdown",
      "source": [
        "**Crea, entrena y mide la precisión de un modelo de Regresión Logística. Muestra la precisión. ¿Es muy diferente al mismo modelo del apartado anterior?.**"
      ],
      "metadata": {
        "id": "5wGnTooA83O3"
      }
    },
    {
      "cell_type": "code",
      "source": [
        "model = LogisticRegression()\n",
        "model.fit(X_train_s, y_train_s)\n",
        "print(f'LogisticRegression Score - Sepalo: {model.score(X_test_s, y_test_s)}')"
      ],
      "metadata": {
        "colab": {
          "base_uri": "https://localhost:8080/"
        },
        "id": "izgR3v-j9jWT",
        "outputId": "991b48c3-aeb7-4637-db87-af9d606c088e"
      },
      "execution_count": null,
      "outputs": [
        {
          "output_type": "stream",
          "name": "stdout",
          "text": [
            "LogisticRegression Score - Sepalo: 0.76\n"
          ]
        }
      ]
    },
    {
      "cell_type": "markdown",
      "source": [
        "**Crea, entrena y mide la precisión de un modelo de Máquinas de Vectores Soporte. Muestra la precisión ¿Es muy diferente al mismo tipo de modelo del apartado anterior?.**"
      ],
      "metadata": {
        "id": "yI6NN3sb84Jm"
      }
    },
    {
      "cell_type": "code",
      "source": [
        "model = SVC()\n",
        "model.fit(X_train_s, y_train_s)\n",
        "print(f'SVC Score - Sepalo: {model.score(X_test_s, y_test_s)}')"
      ],
      "metadata": {
        "colab": {
          "base_uri": "https://localhost:8080/"
        },
        "id": "nybnn_Rh92h7",
        "outputId": "e6d5e7e7-43f7-4eb4-d43b-0f9a25a1bcb9"
      },
      "execution_count": null,
      "outputs": [
        {
          "output_type": "stream",
          "name": "stdout",
          "text": [
            "SVC Score - Sepalo: 0.8\n"
          ]
        }
      ]
    },
    {
      "cell_type": "markdown",
      "source": [
        "**Crea, entrena y mide la precisión de un modelo de K vecinos más cercanos. Muestra la precisión ¿Es muy diferente al mismo tipo de modelo del apartado anterior?.**"
      ],
      "metadata": {
        "id": "4dcuTM5H86mB"
      }
    },
    {
      "cell_type": "code",
      "source": [
        "model = KNeighborsClassifier(n_neighbors=5)\n",
        "model.fit(X_train_s, y_train_s)\n",
        "print(f'SVC Score - Sepalo: {model.score(X_test_s, y_test_s)}')"
      ],
      "metadata": {
        "colab": {
          "base_uri": "https://localhost:8080/"
        },
        "id": "dWchFeAa967f",
        "outputId": "bd227291-8d28-49ee-e8bd-6bf7ee2655ac"
      },
      "execution_count": null,
      "outputs": [
        {
          "output_type": "stream",
          "name": "stdout",
          "text": [
            "SVC Score - Sepalo: 0.7466666666666667\n"
          ]
        }
      ]
    },
    {
      "cell_type": "markdown",
      "source": [
        "**Crea, entrena y mide la precisión de un modelo de Árbol de decisión. Muestra la precisión ¿Es muy diferente al mismo tipo de modelo del apartado anterior?**"
      ],
      "metadata": {
        "id": "JKcIkfA588JD"
      }
    },
    {
      "cell_type": "code",
      "source": [
        "model = DecisionTreeClassifier()\n",
        "model.fit(X_train_s, y_train_s)\n",
        "print(f'SVC Score - Sepalo: {model.score(X_test_s, y_test_s)}')"
      ],
      "metadata": {
        "colab": {
          "base_uri": "https://localhost:8080/"
        },
        "id": "6D6BLX2L-D3t",
        "outputId": "787ceca5-16c7-4eb4-940d-2ebfec743763"
      },
      "execution_count": null,
      "outputs": [
        {
          "output_type": "stream",
          "name": "stdout",
          "text": [
            "SVC Score - Sepalo: 0.7066666666666667\n"
          ]
        }
      ]
    },
    {
      "cell_type": "markdown",
      "source": [
        "**Compara los valores de precisión que has ido consiguiendo en los diferentes modelos. ¿Cuál sería el mejor para este dataset?.**"
      ],
      "metadata": {
        "id": "gCPLpzTl9FGt"
      }
    },
    {
      "cell_type": "markdown",
      "source": [
        "Los mejores resultados los he obtenido en el modelo \"KNeighborsClassifier\", ajustando el parámetro de vecinos cercanos a 5. Con el quue peor resultados con diferencia he obtenido ha sido con el modelo \"DecisionTreeClassifier\""
      ],
      "metadata": {
        "id": "dWo0mgtk_ewq"
      }
    }
  ]
}